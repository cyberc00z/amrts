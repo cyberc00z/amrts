{
 "cells": [
  {
   "cell_type": "code",
   "execution_count": 1,
   "id": "false-image",
   "metadata": {},
   "outputs": [
    {
     "name": "stdout",
     "output_type": "stream",
     "text": [
      "Learning new things\n"
     ]
    }
   ],
   "source": [
    "print(\"Learning new things\")\n"
   ]
  },
  {
   "cell_type": "code",
   "execution_count": 2,
   "id": "mental-major",
   "metadata": {},
   "outputs": [
    {
     "data": {
      "text/plain": [
       "'3.0.5'"
      ]
     },
     "execution_count": 2,
     "metadata": {},
     "output_type": "execute_result"
    }
   ],
   "source": [
    "import spacy\n",
    "spacy.__version__"
   ]
  },
  {
   "cell_type": "code",
   "execution_count": 4,
   "id": "confidential-frank",
   "metadata": {},
   "outputs": [
    {
     "name": "stdout",
     "output_type": "stream",
     "text": [
      "Hey INTJ\n",
      ", PUNCT\n",
      "i PRON\n",
      "am AUX\n",
      "looking VERB\n",
      "for ADP\n",
      "you PRON\n",
      "and CCONJ\n",
      "Sherlock PROPN\n",
      "is VERB\n",
      "here ADV\n",
      "! PUNCT\n"
     ]
    }
   ],
   "source": [
    "import spacy\n",
    "nlp= spacy.load(\"en_core_web_sm\") #loads the spacy into python object\n",
    "dock = nlp(u\"Hey, i am looking for you and Sherlock is here!\") #creating the object\n",
    "for token in dock:\n",
    "    print(token.text, token.pos_) #print the text and POS"
   ]
  },
  {
   "cell_type": "code",
   "execution_count": 6,
   "id": "modified-times",
   "metadata": {},
   "outputs": [
    {
     "name": "stdout",
     "output_type": "stream",
     "text": [
      "I PRON\n",
      "am AUX\n",
      "going VERB\n",
      "to ADP\n",
      "London PROPN\n",
      "next ADJ\n",
      "week NOUN\n",
      "for ADP\n",
      "a DET\n",
      "meeting NOUN\n",
      "in ADP\n",
      "COVID-19 NOUN\n",
      ". PUNCT\n"
     ]
    }
   ],
   "source": [
    "import spacy\n",
    "nlp = spacy.load(\"en_core_web_sm\")\n",
    "doc = nlp(u'I am going to London next week for a meeting in COVID-19.')\n",
    "for token in doc:\n",
    "    print(token.text, token.pos_)"
   ]
  },
  {
   "cell_type": "code",
   "execution_count": 9,
   "id": "modern-secretary",
   "metadata": {},
   "outputs": [
    {
     "name": "stdout",
     "output_type": "stream",
     "text": [
      "Google Google PROPN NNP Xxxxx True False\n",
      "release release NOUN NN xxxx True False\n",
      "\" \" PUNCT `` \" False False\n",
      "Move Move PROPN NNP Xxxx True True\n",
      "Mirror Mirror PROPN NNP Xxxxx True False\n",
      "\" \" PUNCT '' \" False False\n",
      "AI ai NOUN NN XX True False\n",
      "experiment experiment NOUN NN xxxx True False\n",
      "that that DET WDT xxxx True True\n",
      "mathces mathce VERB VBZ xxxx True False\n",
      "your your PRON PRP$ xxxx True True\n",
      "Google Google PROPN NNP Xxxxx True False\n",
      "80,000 80,000 NUM CD dd,ddd False False\n",
      "images image NOUN NNS xxxx True False\n"
     ]
    }
   ],
   "source": [
    "import spacy\n",
    "nlp = spacy.load(\"en_core_web_sm\")\n",
    "dok = nlp(u'Google release \"Move Mirror\" AI experiment that mathces your Google 80,000 images ')\n",
    "for tok in dok:\n",
    "    print(tok.text,tok.lemma_ ,tok.pos_, tok.tag_, tok.shape_, tok.is_alpha, tok.is_stop)"
   ]
  },
  {
   "cell_type": "code",
   "execution_count": null,
   "id": "working-parade",
   "metadata": {},
   "outputs": [],
   "source": [
    "from spacy.lemmatizer import Lemmatizer\n",
    "from spacy.lang.en import LEMMA_INDEX, LEMMA"
   ]
  }
 ],
 "metadata": {
  "kernelspec": {
   "display_name": "Python 3",
   "language": "python",
   "name": "python3"
  },
  "language_info": {
   "codemirror_mode": {
    "name": "ipython",
    "version": 3
   },
   "file_extension": ".py",
   "mimetype": "text/x-python",
   "name": "python",
   "nbconvert_exporter": "python",
   "pygments_lexer": "ipython3",
   "version": "3.9.1"
  }
 },
 "nbformat": 4,
 "nbformat_minor": 5
}
